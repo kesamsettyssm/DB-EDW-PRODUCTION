{
 "cells": [
  {
   "cell_type": "code",
   "execution_count": 0,
   "metadata": {
    "application/vnd.databricks.v1+cell": {
     "cellMetadata": {
      "byteLimit": 2048000,
      "rowLimit": 10000
     },
     "inputWidgets": {},
     "nuid": "f418cad4-c8ee-4090-9ecf-46b04214c3cb",
     "showTitle": false,
     "tableResultSettingsMap": {},
     "title": ""
    }
   },
   "outputs": [],
   "source": [
    "dbutils.widgets.removeAll()\n",
    "dbutils.widgets.text(\"par_source_path\", \"/FileStore/tables/\")\n",
    "dbutils.widgets.text(\"par_source_filetype\", \"csv\")\n",
    "dbutils.widgets.text(\"par_target_path\", \"/FileStore/converted_tables/\")\n",
    "dbutils.widgets.text(\"par_target_filetype\", \"parquet\")\n",
    "\n",
    "\n"
   ]
  },
  {
   "cell_type": "code",
   "execution_count": 0,
   "metadata": {
    "application/vnd.databricks.v1+cell": {
     "cellMetadata": {},
     "inputWidgets": {},
     "nuid": "c12d33fd-b47e-4b25-8f6f-bfe1c30a4bed",
     "showTitle": false,
     "tableResultSettingsMap": {},
     "title": ""
    }
   },
   "outputs": [],
   "source": [
    "df = spark.read.format(dbutils.widgets.get(\"par_source_filetype\")).load(dbutils.widgets.get(\"par_source_path\"))"
   ]
  },
  {
   "cell_type": "code",
   "execution_count": 0,
   "metadata": {
    "application/vnd.databricks.v1+cell": {
     "cellMetadata": {},
     "inputWidgets": {},
     "nuid": "4c817a9d-8a47-4a09-ae13-4e131f09c589",
     "showTitle": false,
     "tableResultSettingsMap": {},
     "title": ""
    }
   },
   "outputs": [],
   "source": [
    "df.write.format(dbutils.widgets.get(\"par_target_filetype\")).save(dbutils.widgets.get(\"par_target_path\"))\n"
   ]
  },
  {
   "cell_type": "code",
   "execution_count": 0,
   "metadata": {
    "application/vnd.databricks.v1+cell": {
     "cellMetadata": {},
     "inputWidgets": {},
     "nuid": "646c1059-8677-44bc-ba57-82cd08bdff43",
     "showTitle": false,
     "tableResultSettingsMap": {},
     "title": ""
    }
   },
   "outputs": [],
   "source": [
    "#this is my new develop,ment"
   ]
  }
 ],
 "metadata": {
  "application/vnd.databricks.v1+notebook": {
   "computePreferences": null,
   "dashboards": [],
   "environmentMetadata": {
    "base_environment": "",
    "environment_version": "2"
   },
   "inputWidgetPreferences": null,
   "language": "python",
   "notebookMetadata": {
    "pythonIndentUnit": 4
   },
   "notebookName": "csv2parquet",
   "widgets": {
    "par_source_filetype": {
     "currentValue": "csv",
     "nuid": "267ba31c-3625-49b1-9de2-a62f3628693c",
     "typedWidgetInfo": {
      "autoCreated": false,
      "defaultValue": "csv",
      "label": null,
      "name": "par_source_filetype",
      "options": {
       "widgetDisplayType": "Text",
       "validationRegex": null
      },
      "parameterDataType": "String"
     },
     "widgetInfo": {
      "widgetType": "text",
      "defaultValue": "csv",
      "label": null,
      "name": "par_source_filetype",
      "options": {
       "widgetType": "text",
       "autoCreated": false,
       "validationRegex": null
      }
     }
    },
    "par_source_path": {
     "currentValue": "/FileStore/tables/",
     "nuid": "120402da-6216-45a0-9ef9-2a8e53bb6b91",
     "typedWidgetInfo": {
      "autoCreated": false,
      "defaultValue": "/FileStore/tables/",
      "label": null,
      "name": "par_source_path",
      "options": {
       "widgetDisplayType": "Text",
       "validationRegex": null
      },
      "parameterDataType": "String"
     },
     "widgetInfo": {
      "widgetType": "text",
      "defaultValue": "/FileStore/tables/",
      "label": null,
      "name": "par_source_path",
      "options": {
       "widgetType": "text",
       "autoCreated": false,
       "validationRegex": null
      }
     }
    },
    "par_target_filetype": {
     "currentValue": "parquet",
     "nuid": "ee94cfa2-c2b9-4f0e-af7c-d76a94097ccd",
     "typedWidgetInfo": {
      "autoCreated": false,
      "defaultValue": "parquet",
      "label": null,
      "name": "par_target_filetype",
      "options": {
       "widgetDisplayType": "Text",
       "validationRegex": null
      },
      "parameterDataType": "String"
     },
     "widgetInfo": {
      "widgetType": "text",
      "defaultValue": "parquet",
      "label": null,
      "name": "par_target_filetype",
      "options": {
       "widgetType": "text",
       "autoCreated": false,
       "validationRegex": null
      }
     }
    },
    "par_target_path": {
     "currentValue": "/FileStore/converted_tables/",
     "nuid": "e0fef6bd-dbbf-432b-9a67-7f93320dbbe3",
     "typedWidgetInfo": {
      "autoCreated": false,
      "defaultValue": "/FileStore/converted_tables/",
      "label": null,
      "name": "par_target_path",
      "options": {
       "widgetDisplayType": "Text",
       "validationRegex": null
      },
      "parameterDataType": "String"
     },
     "widgetInfo": {
      "widgetType": "text",
      "defaultValue": "/FileStore/converted_tables/",
      "label": null,
      "name": "par_target_path",
      "options": {
       "widgetType": "text",
       "autoCreated": false,
       "validationRegex": null
      }
     }
    }
   }
  },
  "language_info": {
   "name": "python"
  }
 },
 "nbformat": 4,
 "nbformat_minor": 0
}
